{
  "cells": [
    {
      "cell_type": "markdown",
      "metadata": {
        "id": "lDWx4lZbjojK"
      },
      "source": [
        "INF8770 Technologies multimédias\n",
        "\n",
        "Polytechnique Montréal"
      ]
    },
    {
      "cell_type": "markdown",
      "metadata": {
        "id": "8IVgLQR6k7e1"
      },
      "source": [
        "Importation des librairies"
      ]
    },
    {
      "cell_type": "code",
      "execution_count": null,
      "metadata": {
        "id": "GJVo3C46kfjR"
      },
      "outputs": [],
      "source": [
        "from PIL import Image\n",
        "import os\n",
        "from skimage.feature.texture import local_binary_pattern\n",
        "import glob\n",
        "import cv2\n",
        "import numpy"
      ]
    },
    {
      "cell_type": "markdown",
      "metadata": {
        "id": "inDu1K0UndIx"
      },
      "source": [
        " Matrices de Co-occurrence (MC)"
      ]
    },
    {
      "cell_type": "code",
      "execution_count": null,
      "metadata": {
        "id": "QHuoIJ5onb2v"
      },
      "outputs": [],
      "source": [
        "def desc_MC(imagePath, dx, dy, color1, color2):\n",
        "  image = Image.open(imagePath)\n",
        "  width = len(image)\n",
        "  height = len(image[0])\n",
        "  result = []\n",
        "\n",
        "  for column in range(0, width):\n",
        "    if column + dx >= width:\n",
        "      break\n",
        "    for row in range(0, height):\n",
        "      if row + dy >= height: \n",
        "        break\n",
        "      areCorrespondingColors = True\n",
        "      for canal in range(0, 3):\n",
        "        if image[column][row][canal] != color1[canal] or image[column + dx][row + dy][canal] != color2[canal]:\n",
        "           areCorrespondingColors = False\n",
        "           break\n",
        "      result += 1 if areCorrespondingColors else 0\n",
        "\n",
        "  return result"
      ]
    },
    {
      "cell_type": "markdown",
      "metadata": {
        "id": "uo6N_r5snjUB"
      },
      "source": [
        "Modèles Binaires Locaux (LBP)"
      ]
    },
    {
      "cell_type": "code",
      "execution_count": null,
      "metadata": {
        "id": "T3ebnD69ncvx"
      },
      "outputs": [],
      "source": [
        "longueurCodes = 8\n",
        "rayon = 1\n",
        "\n",
        "def desc_LBP(path):\n",
        "  image = cv2.imread(path,cv2.IMREAD_GRAYSCALE)\n",
        "  desc =  local_binary_pattern(image, longueurCodes, rayon)\n",
        "  return numpy.asarray(desc, numpy.float32)"
      ]
    },
    {
      "cell_type": "markdown",
      "metadata": {},
      "source": [
        "Importation des images"
      ]
    },
    {
      "cell_type": "code",
      "execution_count": null,
      "metadata": {},
      "outputs": [],
      "source": [
        "query = glob.glob(os.path.join(\"./data\", \"*.jpg\"))\n",
        "database = glob.glob(os.path.join(\"./data/database\", \"*.jpg\"))"
      ]
    },
    {
      "cell_type": "markdown",
      "metadata": {},
      "source": [
        "Méthode de comparaison"
      ]
    },
    {
      "cell_type": "code",
      "execution_count": null,
      "metadata": {},
      "outputs": [],
      "source": [
        "def intersection(vector_i, vector_j):\n",
        "    return numpy.sum(numpy.min(vector_i, vector_j))\n",
        "\n",
        "def norms(vector_i, vector_j):\n",
        "    return numpy.sum(numpy.abs(numpy.diff(vector_i, vector_j)))\n",
        "\n",
        "def bhattacharyya(vector_i, vector_j):\n",
        "    return -numpy.log((numpy.sum(numpy.sqrt(numpy.multiply(vector_i, vector_j)))))\n",
        "\n",
        "def MDPA(vector_i, vector_j):\n",
        "    sum_m = 0\n",
        "    for m in len(vector_i):\n",
        "        sum_n = 0\n",
        "        for n in range(0, m):\n",
        "            sum_n += vector_i[n] - vector_j[n]\n",
        "        sum_m += abs(sum_n)\n",
        "\n",
        "    return sum_m\n",
        "\n",
        "def cosineSimilarity(vector_i, vector_j):\n",
        "    return numpy.sum(numpy.multiply(vector_i, vector_j)) / (numpy.sqrt(numpy.sum(vector_i)) * (numpy.sqrt(numpy.sum(vector_j))))\n",
        "\n",
        "def hammingDistance(vector_i, vector_j):\n",
        "    sum = 0\n",
        "    for k in len(vector_i):\n",
        "        sum += 1 if (vector_i[k] == vector_j[k]) else 0 \n",
        "\n",
        "    return sum"
      ]
    },
    {
      "cell_type": "markdown",
      "metadata": {},
      "source": [
        "Modification des données"
      ]
    },
    {
      "cell_type": "code",
      "execution_count": null,
      "metadata": {},
      "outputs": [],
      "source": [
        "result_mc = dict()\n",
        "result_lbp = dict()\n",
        "\n",
        "for path_query in query:\n",
        "    #mc_query = desc_MC()\n",
        "    lbp_query = desc_LBP(path_query)\n",
        "\n",
        "    #mc_hist_query, bins = numpy.histogram(mc_query, bins = range(256))\n",
        "    lbp_hist_query, bins = numpy.histogram(lbp_query, bins = range(256))\n",
        "    \n",
        "\n",
        "    for path_db in database:\n",
        "        # mc_db = desc_MC()\n",
        "        lbp_db = desc_LBP(path_db)\n",
        "\n",
        "        #mc_hist_db, bins = numpy.histogram(mc_db, bins = range(256))\n",
        "        lbp_hist_db, bins = numpy.histogram(lbp_db, bins = range(256))\n",
        "\n",
        "        # TODO Normaliser les historgrammes\n",
        "\n",
        "        result_id = path_query[7:-4] + \":\" + path_db[16:-4]\n",
        "\n",
        "        #result_mc[result_id] = numpy.sum(numpy.absolute(mc_hist_query - mc_hist_db))\n",
        "        result_lbp[result_id] = numpy.sum(numpy.absolute(lbp_hist_query - lbp_hist_db))\n",
        "    break\n",
        "\n",
        "print(sorted(result_lbp.items(), key=lambda kv: kv[1]))"
      ]
    }
  ],
  "metadata": {
    "colab": {
      "provenance": []
    },
    "kernelspec": {
      "display_name": "Python 3",
      "language": "python",
      "name": "python3"
    },
    "language_info": {
      "codemirror_mode": {
        "name": "ipython",
        "version": 3
      },
      "file_extension": ".py",
      "mimetype": "text/x-python",
      "name": "python",
      "nbconvert_exporter": "python",
      "pygments_lexer": "ipython3",
      "version": "3.10.11"
    }
  },
  "nbformat": 4,
  "nbformat_minor": 0
}
