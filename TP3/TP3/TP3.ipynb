{
  "cells": [
    {
      "cell_type": "markdown",
      "metadata": {
        "id": "lDWx4lZbjojK"
      },
      "source": [
        "INF8770 Technologies multimédias\n",
        "\n",
        "Polytechnique Montréal"
      ]
    },
    {
      "cell_type": "markdown",
      "metadata": {
        "id": "8IVgLQR6k7e1"
      },
      "source": [
        "Importation des librairies"
      ]
    },
    {
      "cell_type": "code",
      "execution_count": null,
      "metadata": {
        "id": "GJVo3C46kfjR"
      },
      "outputs": [],
      "source": [
        "import os\n",
        "import glob\n",
        "import cv2\n",
        "import numpy\n",
        "import csv\n",
        "import torchvision.models as models\n",
        "import torchvision.transforms as transforms\n",
        "import matplotlib.pyplot as plt\n",
        "from skimage import io\n",
        "import urllib.request as request"
      ]
    },
    {
      "cell_type": "markdown",
      "metadata": {},
      "source": [
        "Installation du package ByteTrack"
      ]
    },
    {
      "cell_type": "code",
      "execution_count": null,
      "metadata": {},
      "outputs": [],
      "source": [
        "%%bash\n",
        "if [ ! -d \"ByteTrack\" ]; then\n",
        "  echo \"Importing Model\"\n",
        "  git clone https://github.com/ifzhang/ByteTrack.git\n",
        "fi"
      ]
    },
    {
      "cell_type": "code",
      "execution_count": null,
      "metadata": {},
      "outputs": [],
      "source": [
        "%cd ByteTrack\n",
        "! pip install -r requirements.txt\n",
        "! python setup.py develop"
      ]
    },
    {
      "cell_type": "markdown",
      "metadata": {},
      "source": [
        "Importation des données"
      ]
    },
    {
      "cell_type": "code",
      "execution_count": null,
      "metadata": {},
      "outputs": [],
      "source": [
        "highway = glob.glob(os.path.join(\"./data/baseline/highway/input\", \"*.jpg\"))\n",
        "office = glob.glob(os.path.join(\"./data/baseline/office/input\", \"*.jpg\"))\n",
        "pedestrians = glob.glob(os.path.join(\"./data/baseline/pedestrians/input\", \"*.jpg\"))\n",
        "PETS2006 = glob.glob(os.path.join(\"./data/baseline/PETS2006/input\", \"*.jpg\"))\n",
        "\n",
        "highway_ref = glob.glob(os.path.join(\"./data/baseline/highway/groundtruth\", \"*.png\"))\n",
        "office_ref = glob.glob(os.path.join(\"./data/baseline/office/groundtruth\", \"*.png\"))\n",
        "pedestrians_ref = glob.glob(os.path.join(\"./data/baseline/pedestrians/groundtruth\", \"*.png\"))\n",
        "PETS2006_ref = glob.glob(os.path.join(\"./data/baseline/PETS2006/groundtruth\", \"*.png\"))"
      ]
    },
    {
      "cell_type": "markdown",
      "metadata": {},
      "source": [
        "Background Substraction"
      ]
    },
    {
      "cell_type": "code",
      "execution_count": null,
      "metadata": {},
      "outputs": [],
      "source": [
        "def generate_background_substrated_image(image_path, background_images):\n",
        "  threshold = 25\n",
        "  minDectections = 0.7 * len(background_images)\n",
        "\n",
        "  image = (cv2.imread(image_path, cv2.IMREAD_GRAYSCALE)).astype(float)\n",
        "  diff_sum = []\n",
        "\n",
        "  for background_image in background_images:\n",
        "    diff = numpy.abs(image - background_image) >= threshold\n",
        "    if len(diff_sum) == 0:\n",
        "      diff_sum = diff.astype('int')\n",
        "    else:\n",
        "      diff_sum += diff.astype('int')\n",
        "\n",
        "  front_image = diff_sum >= minDectections\n",
        "\n",
        "  return front_image.astype('int')"
      ]
    },
    {
      "cell_type": "markdown",
      "metadata": {
        "id": "uo6N_r5snjUB"
      },
      "source": [
        "Instance Segmentation"
      ]
    },
    {
      "cell_type": "code",
      "execution_count": null,
      "metadata": {
        "id": "T3ebnD69ncvx"
      },
      "outputs": [],
      "source": [
        "COCO_NAMES = ['background']\n",
        "label_names = request.urlopen('https://raw.githubusercontent.com/gabilodeau/INF6804/master/utils/coco-labels.txt')\n",
        "for label_name in label_names.readlines():\n",
        "  COCO_NAMES.append(label_name.strip().decode('UTF-8'))\n",
        "\n",
        "def Mask_RCNN(dataset):\n",
        "  preprocess = transforms.Compose([transforms.ToTensor()])\n",
        "  model = models.detection.maskrcnn_resnet50_fpn(weights='DEFAULT').eval()\n",
        "  THRESHOLD = 0.30\n",
        "  result = []\n",
        "  \n",
        "  for index, img_path in enumerate(dataset):\n",
        "    print('SI - Image #' + str(index))\n",
        "    img = io.imread(img_path)\n",
        "    predictions = model([preprocess(img)])\n",
        "\n",
        "    for index in range(0, len(predictions)):\n",
        "      prediction = predictions[index]\n",
        "      img_result = numpy.zeros(img.shape[:2])\n",
        "      \n",
        "      for j, score in enumerate(prediction['scores']):\n",
        "          if score >= THRESHOLD:\n",
        "            \n",
        "            mask = prediction['masks'][j][0].detach().numpy()\n",
        "            if len(img_result) == 0:\n",
        "              img_result = numpy.array(mask)\n",
        "            else:\n",
        "              img_result = numpy.maximum(img_result, mask)\n",
        "\n",
        "      result.append(img_result)\n",
        "\n",
        "  return result"
      ]
    },
    {
      "cell_type": "markdown",
      "metadata": {},
      "source": [
        "Méthode de comparaison"
      ]
    },
    {
      "cell_type": "code",
      "execution_count": null,
      "metadata": {},
      "outputs": [],
      "source": [
        "def norms1(vector_i, vector_j):\n",
        "    return numpy.sum(numpy.abs(vector_i - vector_j))"
      ]
    },
    {
      "cell_type": "markdown",
      "metadata": {},
      "source": [
        "Background Substraction"
      ]
    },
    {
      "cell_type": "code",
      "execution_count": null,
      "metadata": {},
      "outputs": [],
      "source": [
        "def substract_background(dataset, background_indices):\n",
        "    background_images = []\n",
        "    for index in background_indices:\n",
        "        background_images.append((cv2.imread(dataset[index], cv2.IMREAD_GRAYSCALE)).astype(float))\n",
        "\n",
        "    result = []\n",
        "    num = 0\n",
        "\n",
        "    for path in dataset:\n",
        "        print('BR - Image #' + str(num))\n",
        "        result.append(generate_background_substrated_image(path, background_images, num))\n",
        "        num += 1\n",
        "\n",
        "    return result"
      ]
    },
    {
      "cell_type": "markdown",
      "metadata": {},
      "source": [
        "Comparaison des résultats"
      ]
    },
    {
      "cell_type": "code",
      "execution_count": null,
      "metadata": {},
      "outputs": [],
      "source": [
        "def classify_difference(dataset, dataset_ref, show_img = -1, do_SI = True, do_BR = True):\n",
        "    result = []\n",
        "\n",
        "    if (do_SI): video_SI =  Mask_RCNN(dataset)\n",
        "    if (do_BR): video_BR =  substract_background(dataset, [x for x in range(len(dataset)) if x % 50 == 0])\n",
        "\n",
        "    for img_index in range(0, len(dataset_ref)):\n",
        "        img_ref = numpy.array(cv2.imread(dataset_ref[img_index], cv2.IMREAD_GRAYSCALE).astype(float)) / 255\n",
        "        if (do_SI): img_SI = video_SI[img_index]\n",
        "        if (do_BR): img_BR = video_BR[img_index]\n",
        "\n",
        "        factor = img_ref.flatten().size\n",
        "        \n",
        "        if (do_SI): result_SI = (1 - (norms1(img_ref, img_SI) / factor)) * 100\n",
        "        if (do_BR): result_BR = (1 - (norms1(img_ref, img_BR) / factor)) * 100\n",
        "\n",
        "        if (show_img != -1 and img_index == show_img):\n",
        "            plt.imshow(cv2.imread(dataset[img_index])); plt.axis('off'); plt.show()\n",
        "            plt.imshow(img_ref); plt.axis('off'); plt.show()\n",
        "\n",
        "            if (do_SI): \n",
        "                plt.imshow(img_SI); plt.axis('off'); plt.show()\n",
        "                plt.imshow(numpy.abs(img_SI - img_ref)); plt.axis('off'); plt.show()\n",
        "\n",
        "            if (do_BR): \n",
        "                plt.imshow(img_BR); plt.axis('off'); plt.show()\n",
        "                plt.imshow(numpy.abs(img_BR - img_ref)); plt.axis('off'); plt.show()\n",
        "\n",
        "        if (do_SI and do_BR):\n",
        "            print(f\"{img_index}: (SI:{result_SI}, BR:{result_BR})\")\n",
        "            result.append((result_SI, result_BR))\n",
        "    \n",
        "    return result"
      ]
    },
    {
      "cell_type": "code",
      "execution_count": null,
      "metadata": {},
      "outputs": [],
      "source": [
        "data = [highway, office, pedestrians, PETS2006]\n",
        "data_ref = [highway_ref, office_ref, pedestrians_ref, PETS2006_ref]\n",
        "data_name = [\"highway\", \"office\", \"pedestrians\", \"PETS2006\"]\n",
        "\n",
        "for data_index in range(0, len(data)):\n",
        "    print(f\"Dataset - {data_name[data_index]}\")\n",
        "    current_data = data[data_index]\n",
        "    current_data_ref = data_ref[data_index]\n",
        "\n",
        "    current_result = classify_difference(current_data, current_data_ref, show_img=-1, do_SI=True, do_BR=True)\n",
        "\n",
        "    with open(f\"{data_name[data_index]}.csv\", 'w+', newline='') as file:\n",
        "        writer = csv.writer(file)\n",
        "        writer.writerow([\"index\", \"SI\", \"BR\"])\n",
        "        \n",
        "        for i in range(0, len(current_result)):\n",
        "            writer.writerow([i, current_result[i][0], current_result[i][1]])"
      ]
    }
  ],
  "metadata": {
    "colab": {
      "provenance": []
    },
    "kernelspec": {
      "display_name": "Python 3",
      "language": "python",
      "name": "python3"
    },
    "language_info": {
      "codemirror_mode": {
        "name": "ipython",
        "version": 3
      },
      "file_extension": ".py",
      "mimetype": "text/x-python",
      "name": "python",
      "nbconvert_exporter": "python",
      "pygments_lexer": "ipython3",
      "version": "3.10.11"
    }
  },
  "nbformat": 4,
  "nbformat_minor": 0
}
